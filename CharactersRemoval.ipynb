{
 "cells": [
  {
   "cell_type": "code",
   "execution_count": null,
   "metadata": {},
   "outputs": [],
   "source": [
    "import pandas as pd\n",
    "from pathlib import Path\n",
    "from random import choice"
   ]
  },
  {
   "cell_type": "markdown",
   "metadata": {},
   "source": [
    "## Paths"
   ]
  },
  {
   "cell_type": "code",
   "execution_count": null,
   "metadata": {},
   "outputs": [],
   "source": [
    "base_path = Path('./')\n",
    "in_path = base_path / 'orig'\n",
    "out_path = base_path / 'converted'"
   ]
  },
  {
   "cell_type": "markdown",
   "metadata": {},
   "source": [
    "# Read the Excel-Files"
   ]
  },
  {
   "cell_type": "code",
   "execution_count": null,
   "metadata": {},
   "outputs": [],
   "source": [
    "in_files = {f: pd.read_excel(f) for f in in_path.glob('**/*') if f.is_file()}\n",
    "\n",
    "# show some lines from a randomly selected excel...\n",
    "random_file = choice(list(in_files.values()))\n",
    "random_file.head()"
   ]
  },
  {
   "cell_type": "markdown",
   "metadata": {},
   "source": [
    "## Replace signs in StructureHandle"
   ]
  },
  {
   "cell_type": "code",
   "execution_count": null,
   "metadata": {},
   "outputs": [],
   "source": [
    "replacements = {\n",
    "    '&lt;': '.',\n",
    "    ';&gt;;': '',\n",
    "    '~I~I~I~I~I~I': '',\n",
    "    '~I~I[!2~': '',\n",
    "    ';[!2~': '.',\n",
    "    ';~Z~Z': '.',\n",
    "    '~I~I': '',\n",
    "    '~I': '',\n",
    "    ';~Z~': '.',\n",
    "    '~Z~Z': '.',\n",
    "    ';~Z': '.',\n",
    "    '~Z': '.',\n",
    "    ';~\\[': '.',\n",
    "    ';[~': '.', \n",
    "    '[~': '.',\n",
    "    ';~': '.',\n",
    "    ';[': '.',\n",
    "    ';~': '.',\n",
    "    ';': '.',\n",
    "    '{': '.',\n",
    "    '[': '.',\n",
    "    '~': '.',\n",
    "    '^': '.',\n",
    "    '/': '.',\n",
    "    '\\\\.': '.',\n",
    "    \n",
    "}\n",
    "\n",
    "replacements_regix = {\n",
    "    '^\\.org': 'org',\n",
    "    '^=org': 'org',\n",
    "    '\\.\\*$': '',\n",
    "    '^\\.': '',\n",
    "    '\\.$': '',\n",
    "    '^=eclipse': 'eclipse',\n",
    "    '.1435705076$': '',\n",
    "}\n",
    "\n",
    "for _, df in in_files.items():\n",
    "    for k,v in replacements.items():\n",
    "        df['StructureHandle'] = df['StructureHandle'].str.replace(k, v, regex=False)\n",
    "    \n",
    "    for k,v in replacements_regix.items():\n",
    "        df['StructureHandle'] = df['StructureHandle'].str.replace(k, v, regex=True)\n",
    "    \n",
    "random_file.head()"
   ]
  },
  {
   "cell_type": "markdown",
   "metadata": {},
   "source": [
    "## Create new Excel-File"
   ]
  },
  {
   "cell_type": "code",
   "execution_count": null,
   "metadata": {},
   "outputs": [],
   "source": [
    "for path, df in in_files.items():\n",
    "    df.to_excel(out_path / path.name)"
   ]
  }
 ],
 "metadata": {
  "kernelspec": {
   "display_name": "cleanExcelEnv",
   "language": "python",
   "name": "python3"
  },
  "language_info": {
   "name": "python",
   "version": "3.11.8"
  }
 },
 "nbformat": 4,
 "nbformat_minor": 2
}
